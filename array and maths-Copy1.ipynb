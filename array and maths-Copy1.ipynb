{
 "cells": [
  {
   "cell_type": "markdown",
   "metadata": {},
   "source": [
    " # Array and Maths "
   ]
  },
  {
   "cell_type": "markdown",
   "metadata": {},
   "source": [
    "# Q) Given an array of size N and it is a read only array. It contains elements      between 1 to N. All elements come once and only 1    element comes twice.Find the missing and repeated number ??\n",
    "\n",
    "\n",
    "\n",
    "eg:- i/p --> [3,1,2,5,3]\n",
    "     so missing number=4 and repeating number is =3\n",
    "     \n",
    "\n",
    "brute force solution :-  copy into different array and sort it and iterate over the array\n",
    "                          o(n) time complexity\n",
    "                          o(n) space complexity\n",
    "                          \n",
    "\n",
    "optimised solution :-  \n",
    "                        \n",
    "                   sum(1,2,----,N) - sum(arr[0],arr[1],......,arr[N])  \n",
    "              \n",
    "                    [1 2 3 4 5]      -   [1 2 3 3 5]\n",
    "                    missing - repeated = x  -----------------------------(1)\n",
    "                    \n",
    "                    sum(1^2,2^2,-----N^2) - sum(arr[0]^2,arr[1]^2,......arr[N]^2)\n",
    "                    missing^2-repeated^2 = y ----------------------------(2)\n",
    "                    \n",
    "                    (2)/(1) =====>>> solving this we get missing + repeated = z ----------(3)\n",
    "                    \n",
    "                    solving the equations, we get repeated and missing numbers\n",
    "                    \n",
    "                    o(n) time complexity and no extra space"
   ]
  },
  {
   "cell_type": "code",
   "execution_count": null,
   "metadata": {},
   "outputs": [],
   "source": [
    "/*function code*/\n",
    "/*Please Note:\n",
    "There are certain problems which are asked in the interview to also check how you take care of overflows in your problem.\n",
    "This is one of those problems.\n",
    "Please take extra care to make sure that you are type-casting your ints to long properly and at all places. Try to verify if your solution works if number of elements is as large as 105*/\n",
    "\n",
    "vector<int> Solution::repeatedNumber(const vector<int> &A) {\n",
    "    long long n = A.size();\n",
    "    long long sum = 0;\n",
    "    long long sum_sq = 0;\n",
    "    \n",
    "    for(long long i=0;i<n;i++){\n",
    "        sum += (long long)A[i];\n",
    "        sum_sq += (long long)A[i]*(long long)A[i];\n",
    "    }\n",
    "    \n",
    "     long long diff = (n*(n+1)/2)-sum;\n",
    "    \n",
    "    long long diff2 = ((n*(n+1)*(2*n+1))/6)-sum_sq;\n",
    "    \n",
    "    long long SUM1 = diff2/diff;\n",
    "\n",
    "    int repeat= (SUM1-diff)/2;\n",
    "    \n",
    "    int missing = (diff+SUM1)/2;\n",
    "  \n",
    "    vector<int> ans;\n",
    "    \n",
    "    ans.push_back(repeat);\n",
    "    ans.push_back(missing);\n",
    "    \n",
    "    return ans;\n",
    "\n",
    "}\n"
   ]
  },
  {
   "cell_type": "markdown",
   "metadata": {},
   "source": [
    "Q) "
   ]
  }
 ],
 "metadata": {
  "kernelspec": {
   "display_name": "C++17",
   "language": "C++17",
   "name": "xcpp17"
  },
  "language_info": {
   "codemirror_mode": "text/x-c++src",
   "file_extension": ".cpp",
   "mimetype": "text/x-c++src",
   "name": "c++",
   "version": "-std=c++17"
  }
 },
 "nbformat": 4,
 "nbformat_minor": 2
}
